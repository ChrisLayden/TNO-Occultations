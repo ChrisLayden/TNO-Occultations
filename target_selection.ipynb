{
 "cells": [
  {
   "cell_type": "markdown",
   "metadata": {},
   "source": [
    "**Do some calculations to figure out good targets for searching for TNO occultations, and when to observe these targets**"
   ]
  },
  {
   "cell_type": "markdown",
   "metadata": {},
   "source": [
    "Using globular cluster catalog from William Harris https://physics.mcmaster.ca/~harris/mwgc.dat"
   ]
  },
  {
   "cell_type": "code",
   "execution_count": 303,
   "metadata": {},
   "outputs": [],
   "source": [
    "import numpy as np\n",
    "import matplotlib.pyplot as plt\n",
    "import astropy.time\n",
    "import astropy.coordinates\n",
    "import astropy.units as u\n",
    "import os\n",
    "import pandas as pd"
   ]
  },
  {
   "cell_type": "code",
   "execution_count": 304,
   "metadata": {},
   "outputs": [],
   "source": [
    "# Open csv as pandas dataframe\n",
    "gc_df = pd.read_csv(os.getcwd() + '/globular_cluster_catalog.csv')\n",
    "gc_df.columns = gc_df.columns.str.strip()"
   ]
  },
  {
   "cell_type": "code",
   "execution_count": 316,
   "metadata": {},
   "outputs": [],
   "source": [
    "# For each globular cluster in the catalog, find the ecliptic latitude and solar separation on a given date.\n",
    "# 11-1-24 is for finding a good target for qCMOS on Hale Telescope\n",
    "time = astropy.time.Time('2024-11-01T00:00:00', scale='utc')\n",
    "sun_coord = astropy.coordinates.get_sun(time).geocentrictrueecliptic\n",
    "for index, row in gc_df.iterrows():\n",
    "    # Get the right ascension and declination\n",
    "    ra = row['RA']\n",
    "    dec = row['Dec']\n",
    "    dist = row['R_Sun']\n",
    "    # Convert to astropy SkyCoord\n",
    "    c = astropy.coordinates.SkyCoord(ra=ra, dec=dec, distance=dist, unit=(u.hourangle, u.deg, u.kpc))\n",
    "    # Get the ecliptic latitude\n",
    "    ecl_lat = c.barycentrictrueecliptic.lat.deg\n",
    "    omega = sun_coord.lon.deg - c.barycentrictrueecliptic.lon.deg - 180\n",
    "    # Wrap omega to be between -180 and 180\n",
    "    if omega > 180:\n",
    "        omega -= 360\n",
    "    elif omega < -180:\n",
    "        omega += 360\n",
    "    # Add to the dataframe\n",
    "    gc_df.at[index, 'ecl_lat'] = ecl_lat\n",
    "    gc_df.at[index, 'omega'] = omega\n",
    "\n",
    "gc_df['V_t'] = pd.to_numeric(gc_df['V_t'], errors='coerce')"
   ]
  },
  {
   "cell_type": "markdown",
   "metadata": {},
   "source": [
    "Choose a globular cluster target for qCMOS on the Hale Telescope"
   ]
  },
  {
   "cell_type": "code",
   "execution_count": 319,
   "metadata": {},
   "outputs": [
    {
     "name": "stdout",
     "output_type": "stream",
     "text": [
      "        ID           RA          Dec Name  R_Sun    ecl_lat      omega   V_t\n",
      "1  NGC 288  00 52 45.24  -26 34 57.4         8.9 -29.453915  38.104659  8.09\n"
     ]
    }
   ],
   "source": [
    "# Only look at globular clusters within 15 degrees of the ecliptic plane\n",
    "gc_good_df = gc_df[abs(gc_df['ecl_lat']) < 30]\n",
    "# Only look at globular clusters with V_t < 10\n",
    "gc_good_df = gc_good_df[gc_good_df['V_t'] < 10]\n",
    "# Only look at globular clusters less than 60 degrees from opposition\n",
    "gc_good_df = gc_good_df[abs(gc_good_df['omega']) < 60]\n",
    "print(gc_good_df[['ID', 'RA', 'Dec', 'Name', 'R_Sun', 'ecl_lat', 'omega', 'V_t']])"
   ]
  },
  {
   "cell_type": "code",
   "execution_count": 380,
   "metadata": {},
   "outputs": [
    {
     "name": "stdout",
     "output_type": "stream",
     "text": [
      "2024-10-30T19:33:20.000 2024-10-30T16:00:00.000\n"
     ]
    }
   ],
   "source": [
    "def plot_airmass(ra, dec, lat, lon, date, height=0, local_time_offset=0):\n",
    "    '''Plot the airmass of a target over the course of a night\n",
    "    \n",
    "    Parameters:\n",
    "    ----------\n",
    "    ra : str\n",
    "        Right ascension of the target in hourangle\n",
    "    dec : str\n",
    "        Declination of the target in degrees\n",
    "    lat : float\n",
    "        Latitude of the observer, in degrees\n",
    "    lon : float\n",
    "        Longitude of the observer, in degrees\n",
    "    date : str\n",
    "        Date of the observation (date of the night, not the morning) in the format 'YYYY-MM-DD'\n",
    "    local_time_offset : float\n",
    "        Offset from UTC to local time in hours. California is -7 in Daylight Savings time\n",
    "    height : float\n",
    "        Height of the observer in meters\n",
    "    '''\n",
    "    # Want to start at 4PM local time and go to 8AM local time\n",
    "    start_time = date + 'T16:00:00'\n",
    "    start_time_utc = astropy.time.Time(start_time, scale='utc') - local_time_offset*u.hour\n",
    "    times_utc = start_time_utc + np.linspace(0, 16, 10)*u.hour\n",
    "    times = times_utc + local_time_offset*u.hour\n",
    "    observer = astropy.coordinates.EarthLocation(lat=lat*u.deg, lon=lon*u.deg, height=height)\n",
    "    # For each time, calculate the sun altitude\n",
    "    sun_coords = astropy.coordinates.get_sun(times_utc)\n",
    "    sun_alts = sun_coords.transform_to(astropy.coordinates.AltAz(obstime=times_utc, location=observer)).alt.deg\n",
    "    # Get point where sun_alt goes from positive to negative, which is sunset\n",
    "    sunset = times[np.where(sun_alts < 0)[0][0]]\n",
    "    # Get point where sun_alt goes from negative to positive, which is sunrise\n",
    "    sunrise = times[np.where(sun_alts > 0)[0][0]]\n",
    "    print(sunset, sunrise)\n",
    "    # print(sunset, sunrise)\n",
    "    # target = astropy.coordinates.SkyCoord(ra=ra, dec=dec, unit=(u.hourangle, u.deg))\n",
    "    # altaz = target.transform_to(astropy.coordinates.AltAz(obstime=time, location=observer))\n",
    "    # # Plot the airmass\n",
    "    # plt.plot(altaz.secz, label='Airmass')\n",
    "    # plt.xlabel('Time')\n",
    "    # plt.ylabel('Airmass')\n",
    "    # plt.title('Airmass vs Time')\n",
    "    # plt.legend()\n",
    "    # plt.show()\n",
    "\n",
    "plot_airmass(ra='00h52m45.24s', dec='-26d34m57.4s', lat=33.3563, lon=-116.8650, height=1706*u.m, date='2024-10-30', local_time_offset=-7)"
   ]
  },
  {
   "cell_type": "code",
   "execution_count": 398,
   "metadata": {},
   "outputs": [
    {
     "name": "stdout",
     "output_type": "stream",
     "text": [
      "NGC 288 will rise at: 2024-11-01 17:00:00.000\n",
      "NGC 288 will set at: 2024-11-02 17:00:00.000\n"
     ]
    },
    {
     "name": "stderr",
     "output_type": "stream",
     "text": [
      "/var/folders/vx/4cbfv3l120sgd531_rn7rsj40000gn/T/ipykernel_13372/169430547.py:53: MatplotlibDeprecationWarning: The plot_date function was deprecated in Matplotlib 3.9 and will be removed in 3.11. Use plot instead.\n",
      "  plt.plot_date(visible_times.plot_date, airmass, fmt='-')\n"
     ]
    },
    {
     "data": {
      "image/png": "[encoded data removed]",
      "text/plain": [
       "<Figure size 640x480 with 1 Axes>"
      ]
     },
     "metadata": {},
     "output_type": "display_data"
    }
   ],
   "source": [
    "# Define the location of Palomar Observatory\n",
    "target_name = \"M22\"\n",
    "palomar = astropy.coordinates.EarthLocation(lat=33.3563*u.deg, lon=-116.8650*u.deg, height=1706*u.m)\n",
    "\n",
    "# Define the observation time (October 30, 2024)\n",
    "time = astropy.time.Time('2024-11-02 00:00:00') + np.linspace(0, 24, 1000)*u.hour\n",
    "\n",
    "# NGC 288 Coordinates\n",
    "ngc288_coord = astropy.coordinates.SkyCoord(ra='00h52m45.24s', dec='-26d34m57.4s', frame='icrs')\n",
    "andromeda_coord = astropy.coordinates.SkyCoord(ra='00h42m44.3s', dec='41d16m9s', frame='icrs')\n",
    "orion_coord = astropy.coordinates.SkyCoord(ra='05h35m17.3s', dec='-05d23m28s', frame='icrs')\n",
    "grb_241030a_coord = astropy.coordinates.SkyCoord(ra='22h52m33.57s', dec='80d26m59.9s', frame='icrs')\n",
    "m15_coord = astropy.coordinates.SkyCoord(ra='21h29m58.33s', dec='12d10m01.2s', frame='icrs')\n",
    "terzan_5_coord = astropy.coordinates.SkyCoord(ra='17h48m05.6s', dec='-24d46m48s', frame='icrs')\n",
    "m22_coord = astropy.coordinates.SkyCoord(ra='18h36m23.94s', dec='-23d54m17.1s', frame='icrs')\n",
    "omega_centauri_coord = astropy.coordinates.SkyCoord(ra='13h26m47.24s', dec='-47d28m46.1s', frame='icrs')\n",
    "tuc_47_coord = astropy.coordinates.SkyCoord(ra='22h51m10.0s', dec='-60d33m44s', frame='icrs')\n",
    "ztf224342_coord = astropy.coordinates.SkyCoord(ra='22h43m43.0s', dec='+54d42m06s', frame='icrs')\n",
    "crab_nebula_coord = astropy.coordinates.SkyCoord(ra='05h34m31.97s', dec='+22d00m52.1s', frame='icrs')\n",
    "ep241021a_coord = astropy.coordinates.SkyCoord(ra='01h55m23.0s', dec='5d56m18s', frame='icrs')\n",
    "amcvn_coord = astropy.coordinates.SkyCoord(ra='12h34m54.60s', dec='37d37m44.1s', frame='icrs')\n",
    "eagle_coord = astropy.coordinates.SkyCoord(ra='18h18m48.0s', dec='-13d47m46s', frame='icrs')\n",
    "ztfJ0703_coord = astropy.coordinates.SkyCoord(ra='07h03m58.0s', dec='+46d03m47s', frame='icrs')\n",
    "toi392_coord = astropy.coordinates.SkyCoord(ra='03h 07m 44.00s', dec='+00d51m41.00s', frame='icrs')\n",
    "toi1408b_coord = astropy.coordinates.SkyCoord(ra='20h 54m 03.00s', dec='+72d34m50.00s', frame='icrs')\n",
    "pleiades_coord = astropy.coordinates.SkyCoord(ra='03h 47m 24s', dec='+24d07m00s', frame='icrs')\n",
    "hat_p_20b_coord = astropy.coordinates.SkyCoord(ra='07h 27m 40.00s', dec='+24d20m15.00s', frame='icrs')\n",
    "\n",
    "# Create AltAz frame for Palomar location and observation times\n",
    "altaz_frame = astropy.coordinates.AltAz(obstime=time, location=palomar)\n",
    "\n",
    "# Transform target coordinates to AltAz frame\n",
    "target_altaz = m22_coord.transform_to(altaz_frame)\n",
    "\n",
    "# Calculate the times when NGC 288 is above the horizon (altitude > 0)\n",
    "is_visible = target_altaz.alt > 0*u.deg\n",
    "\n",
    "# Get the times for which NGC 288 is visible\n",
    "visible_times = time[is_visible]\n",
    "# Convert visible times to pacific time\n",
    "visible_times = visible_times - 7*u.hour\n",
    "# Calculate the airamss for the visible times\n",
    "airmass = target_altaz.secz[is_visible]\n",
    "\n",
    "# Print the start and end time for visibility\n",
    "if len(visible_times) > 0:\n",
    "    print(f\"NGC 288 will rise at: {visible_times[0].iso}\")\n",
    "    print(f\"NGC 288 will set at: {visible_times[-1].iso}\")\n",
    "else:\n",
    "    print(\"NGC 288 will not be visible on this date.\")\n",
    "\n",
    "# Plot the airmass as a function of time. Time should be labeled in HH:MM:SS\n",
    "plt.plot_date(visible_times.plot_date, airmass, fmt='-')\n",
    "# plt.xlim(visible_times[0].plot_date, visible_times[-300].plot_date)\n",
    "plt.xticks(rotation=45)\n",
    "plt.xlabel('Time (PDT)')\n",
    "plt.ylabel('Airmass')\n",
    "plt.ylim(1,3)\n",
    "plt.title(target_name + ' Airmass vs. Time')\n",
    "plt.show()\n"
   ]
  },
  {
   "cell_type": "markdown",
   "metadata": {},
   "source": [
    "Look at some targets for TESS-GEO"
   ]
  },
  {
   "cell_type": "code",
   "execution_count": 309,
   "metadata": {},
   "outputs": [
    {
     "name": "stdout",
     "output_type": "stream",
     "text": [
      "              ID            Name  R_Sun    ecl_lat       omega   V_t\n",
      "39    NGC 5904     M 5              7.5  19.646239  172.117772  5.65\n",
      "43    NGC 5986                     10.4 -17.456306  155.910413  7.52\n",
      "46    NGC 6093     M 80            10.0  -1.619061  152.287856  7.33\n",
      "47    NGC 6121     M 4              2.2  -4.868774  150.223307  5.63\n",
      "52    NGC 6171     M 107            6.4   8.765432  150.248170  7.93\n",
      "59    NGC 6254     M 10             4.4  18.441181  145.253067  6.60\n",
      "62    NGC 6266     M 62             6.8  -7.324307  141.493406  6.45\n",
      "63    NGC 6273     M 19             8.8  -3.466644  141.568549  6.77\n",
      "71    NGC 6333     M 9              7.9   4.580401  138.411032  7.72\n",
      "95    NGC 6441                     11.6 -13.629209  130.718207  7.15\n",
      "109   NGC 6544                      3.0  -1.568657  127.045680  7.77\n",
      "122   NGC 6624                      7.9  -7.027363  123.566555  7.87\n",
      "123   NGC 6626     M 28             5.5  -1.549026  123.142265  6.79\n",
      "125   NGC 6637     M 69             8.8  -9.091307  122.002753  7.64\n",
      "128   NGC 6656     M 22             3.2  -0.727715  120.395982  5.10\n",
      "130   NGC 6681     M 70             9.0  -9.198565  119.473541  7.87\n",
      "133   NGC 6715     M 54            26.5  -7.609237  116.771418  7.60\n",
      "135   NGC 6723                      8.7 -13.824427  116.450853  7.01\n",
      "143   NGC 6809     M 55             5.4  -9.376489  107.162129  6.32\n",
      "152   NGC 7089     M 2             11.5  12.953849   73.293804  6.47\n",
      "153   NGC 7099     M 30             8.1  -8.736067   79.005387  7.19\n"
     ]
    }
   ],
   "source": [
    "# Find only globular clusters that are below 30 degrees ecliptic latitude and brighter than mag 8\n",
    "gc_tess_geo = gc_df[abs(gc_df['ecl_lat']) < 20]\n",
    "gc_tess_geo = gc_tess_geo[gc_tess_geo['V_t'] < 8]\n",
    "print(gc_tess_geo[['ID', 'Name', 'R_Sun', 'ecl_lat', 'omega', 'V_t']])"
   ]
  },
  {
   "cell_type": "code",
   "execution_count": 399,
   "metadata": {},
   "outputs": [
    {
     "name": "stdout",
     "output_type": "stream",
     "text": [
      "4.066417005947422\n"
     ]
    }
   ],
   "source": [
    "# Get ecliptic latitude of pleiades\n",
    "pleiades = astropy.coordinates.SkyCoord(ra='03h 47m 24s', dec='+24d07m00s', frame='icrs')\n",
    "pleiades_ecl_lat = pleiades.barycentrictrueecliptic.lat.deg\n",
    "print(pleiades_ecl_lat)"
   ]
  },
  {
   "cell_type": "code",
   "execution_count": null,
   "metadata": {},
   "outputs": [],
   "source": []
  }
 ],
 "metadata": {
  "kernelspec": {
   "display_name": "base",
   "language": "python",
   "name": "python3"
  },
  "language_info": {
   "codemirror_mode": {
    "name": "ipython",
    "version": 3
   },
   "file_extension": ".py",
   "mimetype": "text/x-python",
   "name": "python",
   "nbconvert_exporter": "python",
   "pygments_lexer": "ipython3",
   "version": "3.9.12"
  }
 },
 "nbformat": 4,
 "nbformat_minor": 2
}
